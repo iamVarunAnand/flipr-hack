{
 "cells": [
  {
   "cell_type": "code",
   "execution_count": 1,
   "metadata": {
    "scrolled": true
   },
   "outputs": [
    {
     "name": "stderr",
     "output_type": "stream",
     "text": [
      "Using TensorFlow backend.\n",
      "/home/varun/environments/pyimagesearch/lib/python3.6/site-packages/tensorflow/python/framework/dtypes.py:516: FutureWarning: Passing (type, 1) or '1type' as a synonym of type is deprecated; in a future version of numpy, it will be understood as (type, (1,)) / '(1,)type'.\n",
      "  _np_qint8 = np.dtype([(\"qint8\", np.int8, 1)])\n",
      "/home/varun/environments/pyimagesearch/lib/python3.6/site-packages/tensorflow/python/framework/dtypes.py:517: FutureWarning: Passing (type, 1) or '1type' as a synonym of type is deprecated; in a future version of numpy, it will be understood as (type, (1,)) / '(1,)type'.\n",
      "  _np_quint8 = np.dtype([(\"quint8\", np.uint8, 1)])\n",
      "/home/varun/environments/pyimagesearch/lib/python3.6/site-packages/tensorflow/python/framework/dtypes.py:518: FutureWarning: Passing (type, 1) or '1type' as a synonym of type is deprecated; in a future version of numpy, it will be understood as (type, (1,)) / '(1,)type'.\n",
      "  _np_qint16 = np.dtype([(\"qint16\", np.int16, 1)])\n",
      "/home/varun/environments/pyimagesearch/lib/python3.6/site-packages/tensorflow/python/framework/dtypes.py:519: FutureWarning: Passing (type, 1) or '1type' as a synonym of type is deprecated; in a future version of numpy, it will be understood as (type, (1,)) / '(1,)type'.\n",
      "  _np_quint16 = np.dtype([(\"quint16\", np.uint16, 1)])\n",
      "/home/varun/environments/pyimagesearch/lib/python3.6/site-packages/tensorflow/python/framework/dtypes.py:520: FutureWarning: Passing (type, 1) or '1type' as a synonym of type is deprecated; in a future version of numpy, it will be understood as (type, (1,)) / '(1,)type'.\n",
      "  _np_qint32 = np.dtype([(\"qint32\", np.int32, 1)])\n",
      "/home/varun/environments/pyimagesearch/lib/python3.6/site-packages/tensorflow/python/framework/dtypes.py:525: FutureWarning: Passing (type, 1) or '1type' as a synonym of type is deprecated; in a future version of numpy, it will be understood as (type, (1,)) / '(1,)type'.\n",
      "  np_resource = np.dtype([(\"resource\", np.ubyte, 1)])\n",
      "/home/varun/environments/pyimagesearch/lib/python3.6/site-packages/tensorboard/compat/tensorflow_stub/dtypes.py:541: FutureWarning: Passing (type, 1) or '1type' as a synonym of type is deprecated; in a future version of numpy, it will be understood as (type, (1,)) / '(1,)type'.\n",
      "  _np_qint8 = np.dtype([(\"qint8\", np.int8, 1)])\n",
      "/home/varun/environments/pyimagesearch/lib/python3.6/site-packages/tensorboard/compat/tensorflow_stub/dtypes.py:542: FutureWarning: Passing (type, 1) or '1type' as a synonym of type is deprecated; in a future version of numpy, it will be understood as (type, (1,)) / '(1,)type'.\n",
      "  _np_quint8 = np.dtype([(\"quint8\", np.uint8, 1)])\n",
      "/home/varun/environments/pyimagesearch/lib/python3.6/site-packages/tensorboard/compat/tensorflow_stub/dtypes.py:543: FutureWarning: Passing (type, 1) or '1type' as a synonym of type is deprecated; in a future version of numpy, it will be understood as (type, (1,)) / '(1,)type'.\n",
      "  _np_qint16 = np.dtype([(\"qint16\", np.int16, 1)])\n",
      "/home/varun/environments/pyimagesearch/lib/python3.6/site-packages/tensorboard/compat/tensorflow_stub/dtypes.py:544: FutureWarning: Passing (type, 1) or '1type' as a synonym of type is deprecated; in a future version of numpy, it will be understood as (type, (1,)) / '(1,)type'.\n",
      "  _np_quint16 = np.dtype([(\"quint16\", np.uint16, 1)])\n",
      "/home/varun/environments/pyimagesearch/lib/python3.6/site-packages/tensorboard/compat/tensorflow_stub/dtypes.py:545: FutureWarning: Passing (type, 1) or '1type' as a synonym of type is deprecated; in a future version of numpy, it will be understood as (type, (1,)) / '(1,)type'.\n",
      "  _np_qint32 = np.dtype([(\"qint32\", np.int32, 1)])\n",
      "/home/varun/environments/pyimagesearch/lib/python3.6/site-packages/tensorboard/compat/tensorflow_stub/dtypes.py:550: FutureWarning: Passing (type, 1) or '1type' as a synonym of type is deprecated; in a future version of numpy, it will be understood as (type, (1,)) / '(1,)type'.\n",
      "  np_resource = np.dtype([(\"resource\", np.ubyte, 1)])\n"
     ]
    }
   ],
   "source": [
    "# import the necessary packages\n",
    "from keras.layers import LSTM\n",
    "from keras.layers.core import Dense\n",
    "from keras.layers.core import Activation\n",
    "from keras.models import Sequential\n",
    "\n",
    "from sklearn.model_selection import train_test_split\n",
    "from sklearn.preprocessing import StandardScaler\n",
    "import matplotlib.pyplot as plt\n",
    "import pandas as pd\n",
    "import numpy as np\n",
    "import pickle"
   ]
  },
  {
   "cell_type": "code",
   "execution_count": 2,
   "metadata": {},
   "outputs": [],
   "source": [
    "df = pd.read_csv(\"../input/diuresis_train.csv\")"
   ]
  },
  {
   "cell_type": "code",
   "execution_count": 3,
   "metadata": {},
   "outputs": [],
   "source": [
    "X = np.array(df.iloc[:, 1:-1].values, dtype = np.int32)\n",
    "Y = np.array(df.iloc[:, -1].values, dtype = np.int32)"
   ]
  },
  {
   "cell_type": "code",
   "execution_count": 4,
   "metadata": {},
   "outputs": [],
   "source": [
    "x_train, x_test, y_train, y_test = train_test_split(X, Y, test_size = 0.2, random_state = 42)"
   ]
  },
  {
   "cell_type": "code",
   "execution_count": 5,
   "metadata": {},
   "outputs": [
    {
     "data": {
      "text/plain": [
       "StandardScaler(copy=True, with_mean=True, with_std=True)"
      ]
     },
     "execution_count": 5,
     "metadata": {},
     "output_type": "execute_result"
    }
   ],
   "source": [
    "ss = StandardScaler()\n",
    "ss.fit(x_train)"
   ]
  },
  {
   "cell_type": "code",
   "execution_count": 6,
   "metadata": {},
   "outputs": [],
   "source": [
    "x_train = ss.transform(x_train)\n",
    "x_test = ss.transform(x_test)"
   ]
  },
  {
   "cell_type": "code",
   "execution_count": 7,
   "metadata": {},
   "outputs": [],
   "source": [
    "f = open(\"../output/ss.pkl\", \"wb+\")\n",
    "pickle.dump(ss, f)\n",
    "f.close()"
   ]
  },
  {
   "cell_type": "code",
   "execution_count": 7,
   "metadata": {},
   "outputs": [],
   "source": [
    "x_train = x_train[..., None]\n",
    "x_test = x_test[..., None]"
   ]
  },
  {
   "cell_type": "code",
   "execution_count": 8,
   "metadata": {},
   "outputs": [],
   "source": [
    "class CoronaNet:\n",
    "    @staticmethod\n",
    "    def build():\n",
    "        model = Sequential()\n",
    "        \n",
    "        model.add(LSTM(128, kernel_initializer = \"he_normal\", input_shape = (6, 1)))\n",
    "        model.add(Activation(\"relu\"))\n",
    "        \n",
    "        model.add(Dense(64, kernel_initializer = \"he_normal\"))\n",
    "        model.add(Activation(\"relu\"))\n",
    "        model.add(Dense(1, kernel_initializer = \"he_normal\"))\n",
    "        \n",
    "        return model"
   ]
  },
  {
   "cell_type": "code",
   "execution_count": 9,
   "metadata": {},
   "outputs": [
    {
     "name": "stderr",
     "output_type": "stream",
     "text": [
      "WARNING: Logging before flag parsing goes to stderr.\n",
      "W0323 12:15:55.034915 140384376493888 deprecation_wrapper.py:119] From /home/varun/environments/pyimagesearch/lib/python3.6/site-packages/keras/backend/tensorflow_backend.py:74: The name tf.get_default_graph is deprecated. Please use tf.compat.v1.get_default_graph instead.\n",
      "\n",
      "W0323 12:15:55.052231 140384376493888 deprecation_wrapper.py:119] From /home/varun/environments/pyimagesearch/lib/python3.6/site-packages/keras/backend/tensorflow_backend.py:517: The name tf.placeholder is deprecated. Please use tf.compat.v1.placeholder instead.\n",
      "\n",
      "W0323 12:15:55.054891 140384376493888 deprecation_wrapper.py:119] From /home/varun/environments/pyimagesearch/lib/python3.6/site-packages/keras/backend/tensorflow_backend.py:4185: The name tf.truncated_normal is deprecated. Please use tf.random.truncated_normal instead.\n",
      "\n"
     ]
    },
    {
     "name": "stdout",
     "output_type": "stream",
     "text": [
      "_________________________________________________________________\n",
      "Layer (type)                 Output Shape              Param #   \n",
      "=================================================================\n",
      "lstm_1 (LSTM)                (None, 128)               66560     \n",
      "_________________________________________________________________\n",
      "activation_1 (Activation)    (None, 128)               0         \n",
      "_________________________________________________________________\n",
      "dense_1 (Dense)              (None, 64)                8256      \n",
      "_________________________________________________________________\n",
      "activation_2 (Activation)    (None, 64)                0         \n",
      "_________________________________________________________________\n",
      "dense_2 (Dense)              (None, 1)                 65        \n",
      "=================================================================\n",
      "Total params: 74,881\n",
      "Trainable params: 74,881\n",
      "Non-trainable params: 0\n",
      "_________________________________________________________________\n",
      "None\n"
     ]
    }
   ],
   "source": [
    "model = CoronaNet.build()\n",
    "print(model.summary())"
   ]
  },
  {
   "cell_type": "code",
   "execution_count": 10,
   "metadata": {},
   "outputs": [
    {
     "name": "stderr",
     "output_type": "stream",
     "text": [
      "W0323 12:15:56.560766 140384376493888 deprecation_wrapper.py:119] From /home/varun/environments/pyimagesearch/lib/python3.6/site-packages/keras/optimizers.py:790: The name tf.train.Optimizer is deprecated. Please use tf.compat.v1.train.Optimizer instead.\n",
      "\n",
      "W0323 12:15:56.878856 140384376493888 deprecation.py:323] From /home/varun/environments/pyimagesearch/lib/python3.6/site-packages/tensorflow/python/ops/math_grad.py:1250: add_dispatch_support.<locals>.wrapper (from tensorflow.python.ops.array_ops) is deprecated and will be removed in a future version.\n",
      "Instructions for updating:\n",
      "Use tf.where in 2.0, which has the same broadcast rule as np.where\n",
      "W0323 12:15:57.263978 140384376493888 deprecation_wrapper.py:119] From /home/varun/environments/pyimagesearch/lib/python3.6/site-packages/keras/backend/tensorflow_backend.py:986: The name tf.assign_add is deprecated. Please use tf.compat.v1.assign_add instead.\n",
      "\n",
      "W0323 12:15:57.366506 140384376493888 deprecation_wrapper.py:119] From /home/varun/environments/pyimagesearch/lib/python3.6/site-packages/keras/backend/tensorflow_backend.py:973: The name tf.assign is deprecated. Please use tf.compat.v1.assign instead.\n",
      "\n"
     ]
    },
    {
     "name": "stdout",
     "output_type": "stream",
     "text": [
      "Train on 8571 samples, validate on 2143 samples\n",
      "Epoch 1/75\n",
      "8571/8571 [==============================] - 4s 420us/step - loss: 1043638.3485 - val_loss: 1009855.6704\n",
      "Epoch 2/75\n",
      "8571/8571 [==============================] - 1s 101us/step - loss: 1008427.7079 - val_loss: 962424.3016\n",
      "Epoch 3/75\n",
      "8571/8571 [==============================] - 1s 89us/step - loss: 954510.9675 - val_loss: 903366.1457\n",
      "Epoch 4/75\n",
      "8571/8571 [==============================] - 1s 77us/step - loss: 889230.4549 - val_loss: 833080.3927\n",
      "Epoch 5/75\n",
      "8571/8571 [==============================] - 0s 58us/step - loss: 812610.2810 - val_loss: 747511.2225\n",
      "Epoch 6/75\n",
      "8571/8571 [==============================] - 0s 58us/step - loss: 580429.7720 - val_loss: 393771.0652\n",
      "Epoch 7/75\n",
      "8571/8571 [==============================] - 0s 58us/step - loss: 330333.7040 - val_loss: 253908.9091\n",
      "Epoch 8/75\n",
      "8571/8571 [==============================] - 1s 58us/step - loss: 215393.3705 - val_loss: 167564.0161\n",
      "Epoch 9/75\n",
      "8571/8571 [==============================] - 0s 57us/step - loss: 145439.4981 - val_loss: 117628.1256\n",
      "Epoch 10/75\n",
      "8571/8571 [==============================] - 0s 58us/step - loss: 104840.7551 - val_loss: 88372.7048\n",
      "Epoch 11/75\n",
      "8571/8571 [==============================] - 0s 58us/step - loss: 79699.2983 - val_loss: 68201.1294\n",
      "Epoch 12/75\n",
      "8571/8571 [==============================] - 1s 59us/step - loss: 56241.2674 - val_loss: 39418.9369\n",
      "Epoch 13/75\n",
      "8571/8571 [==============================] - 1s 59us/step - loss: 33627.0160 - val_loss: 25967.2409\n",
      "Epoch 14/75\n",
      "8571/8571 [==============================] - 0s 57us/step - loss: 22633.0443 - val_loss: 17585.7644\n",
      "Epoch 15/75\n",
      "8571/8571 [==============================] - 1s 59us/step - loss: 15576.8539 - val_loss: 12087.3035\n",
      "Epoch 16/75\n",
      "8571/8571 [==============================] - 1s 59us/step - loss: 10790.1468 - val_loss: 8383.3902\n",
      "Epoch 17/75\n",
      "8571/8571 [==============================] - 1s 59us/step - loss: 7596.9875 - val_loss: 5952.8316\n",
      "Epoch 18/75\n",
      "8571/8571 [==============================] - 1s 59us/step - loss: 5465.2975 - val_loss: 4263.1480\n",
      "Epoch 19/75\n",
      "8571/8571 [==============================] - 1s 59us/step - loss: 3963.2131 - val_loss: 3103.1667\n",
      "Epoch 20/75\n",
      "8571/8571 [==============================] - 1s 73us/step - loss: 2913.0034 - val_loss: 2279.0499\n",
      "Epoch 21/75\n",
      "8571/8571 [==============================] - 1s 59us/step - loss: 2163.1053 - val_loss: 1694.9017\n",
      "Epoch 22/75\n",
      "8571/8571 [==============================] - 0s 58us/step - loss: 1634.2797 - val_loss: 1276.6464\n",
      "Epoch 23/75\n",
      "8571/8571 [==============================] - 1s 58us/step - loss: 1247.7964 - val_loss: 979.0638\n",
      "Epoch 24/75\n",
      "8571/8571 [==============================] - 1s 59us/step - loss: 969.3213 - val_loss: 759.7942\n",
      "Epoch 25/75\n",
      "8571/8571 [==============================] - 1s 59us/step - loss: 762.8301 - val_loss: 595.9013\n",
      "Epoch 26/75\n",
      "8571/8571 [==============================] - 1s 59us/step - loss: 607.5165 - val_loss: 474.5823\n",
      "Epoch 27/75\n",
      "8571/8571 [==============================] - 1s 61us/step - loss: 489.0620 - val_loss: 382.7378\n",
      "Epoch 28/75\n",
      "8571/8571 [==============================] - 1s 59us/step - loss: 397.3368 - val_loss: 311.0665\n",
      "Epoch 29/75\n",
      "8571/8571 [==============================] - 1s 69us/step - loss: 325.9265 - val_loss: 254.1037\n",
      "Epoch 30/75\n",
      "8571/8571 [==============================] - 1s 60us/step - loss: 269.7764 - val_loss: 209.5329\n",
      "Epoch 31/75\n",
      "8571/8571 [==============================] - 1s 60us/step - loss: 224.9702 - val_loss: 173.9540\n",
      "Epoch 32/75\n",
      "8571/8571 [==============================] - 0s 58us/step - loss: 188.5049 - val_loss: 146.6029\n",
      "Epoch 33/75\n",
      "8571/8571 [==============================] - 1s 59us/step - loss: 159.6029 - val_loss: 123.6994\n",
      "Epoch 34/75\n",
      "8571/8571 [==============================] - 0s 58us/step - loss: 135.6068 - val_loss: 104.9873\n",
      "Epoch 35/75\n",
      "8571/8571 [==============================] - 1s 59us/step - loss: 115.7621 - val_loss: 89.0552\n",
      "Epoch 36/75\n",
      "8571/8571 [==============================] - 1s 59us/step - loss: 99.5746 - val_loss: 76.0738\n",
      "Epoch 37/75\n",
      "8571/8571 [==============================] - 1s 59us/step - loss: 85.9502 - val_loss: 65.8845\n",
      "Epoch 38/75\n",
      "8571/8571 [==============================] - 1s 59us/step - loss: 74.7891 - val_loss: 57.3023\n",
      "Epoch 39/75\n",
      "8571/8571 [==============================] - 1s 59us/step - loss: 65.4718 - val_loss: 49.7459\n",
      "Epoch 40/75\n",
      "8571/8571 [==============================] - 1s 72us/step - loss: 57.1161 - val_loss: 43.4121\n",
      "Epoch 41/75\n",
      "8571/8571 [==============================] - 1s 64us/step - loss: 50.3328 - val_loss: 38.2334\n",
      "Epoch 42/75\n",
      "8571/8571 [==============================] - 1s 59us/step - loss: 44.3585 - val_loss: 33.7832\n",
      "Epoch 43/75\n",
      "8571/8571 [==============================] - 1s 59us/step - loss: 39.4467 - val_loss: 29.9003\n",
      "Epoch 44/75\n",
      "8571/8571 [==============================] - 0s 57us/step - loss: 35.1683 - val_loss: 26.6219\n",
      "Epoch 45/75\n",
      "8571/8571 [==============================] - 1s 69us/step - loss: 31.6042 - val_loss: 23.9027\n",
      "Epoch 46/75\n",
      "8571/8571 [==============================] - 1s 62us/step - loss: 28.3159 - val_loss: 21.7363\n",
      "Epoch 47/75\n",
      "8571/8571 [==============================] - 1s 60us/step - loss: 25.6393 - val_loss: 19.5105\n",
      "Epoch 48/75\n",
      "8571/8571 [==============================] - 1s 64us/step - loss: 23.2422 - val_loss: 17.8251\n",
      "Epoch 49/75\n",
      "8571/8571 [==============================] - 1s 60us/step - loss: 21.0946 - val_loss: 16.3606\n",
      "Epoch 50/75\n",
      "8571/8571 [==============================] - 1s 67us/step - loss: 19.3616 - val_loss: 14.9767\n",
      "Epoch 51/75\n",
      "8571/8571 [==============================] - 1s 64us/step - loss: 17.6830 - val_loss: 14.0006\n",
      "Epoch 52/75\n",
      "8571/8571 [==============================] - 1s 62us/step - loss: 16.4036 - val_loss: 12.9832\n",
      "Epoch 53/75\n",
      "8571/8571 [==============================] - 1s 62us/step - loss: 15.1414 - val_loss: 11.9570\n",
      "Epoch 54/75\n",
      "8571/8571 [==============================] - 1s 61us/step - loss: 14.0688 - val_loss: 11.4173\n",
      "Epoch 55/75\n",
      "8571/8571 [==============================] - 1s 63us/step - loss: 12.9942 - val_loss: 10.4351\n",
      "Epoch 56/75\n",
      "8571/8571 [==============================] - 1s 62us/step - loss: 12.1354 - val_loss: 9.8716\n",
      "Epoch 57/75\n",
      "8571/8571 [==============================] - 1s 60us/step - loss: 11.4614 - val_loss: 9.2547\n",
      "Epoch 58/75\n",
      "8571/8571 [==============================] - 1s 62us/step - loss: 10.7759 - val_loss: 8.8086\n",
      "Epoch 59/75\n",
      "8571/8571 [==============================] - 1s 67us/step - loss: 10.2108 - val_loss: 8.4038\n",
      "Epoch 60/75\n",
      "8571/8571 [==============================] - 1s 67us/step - loss: 9.4933 - val_loss: 8.0496\n",
      "Epoch 61/75\n",
      "8571/8571 [==============================] - 1s 67us/step - loss: 9.2147 - val_loss: 7.7246\n",
      "Epoch 62/75\n",
      "8571/8571 [==============================] - 1s 70us/step - loss: 8.9077 - val_loss: 7.5489\n",
      "Epoch 63/75\n",
      "8571/8571 [==============================] - 1s 70us/step - loss: 8.3735 - val_loss: 7.6185\n",
      "Epoch 64/75\n",
      "8571/8571 [==============================] - 1s 67us/step - loss: 7.9956 - val_loss: 6.8051\n",
      "Epoch 65/75\n",
      "8571/8571 [==============================] - 1s 65us/step - loss: 7.7739 - val_loss: 6.8228\n",
      "Epoch 66/75\n",
      "8571/8571 [==============================] - 1s 67us/step - loss: 7.6377 - val_loss: 7.2578\n",
      "Epoch 67/75\n",
      "8571/8571 [==============================] - 1s 68us/step - loss: 7.3366 - val_loss: 6.0872\n",
      "Epoch 68/75\n",
      "8571/8571 [==============================] - 1s 69us/step - loss: 7.0321 - val_loss: 6.0578\n",
      "Epoch 69/75\n",
      "8571/8571 [==============================] - 1s 66us/step - loss: 6.7378 - val_loss: 5.8362\n",
      "Epoch 70/75\n",
      "8571/8571 [==============================] - 1s 66us/step - loss: 6.6061 - val_loss: 5.6444\n",
      "Epoch 71/75\n",
      "8571/8571 [==============================] - 1s 74us/step - loss: 6.3480 - val_loss: 5.5102\n",
      "Epoch 72/75\n",
      "8571/8571 [==============================] - 1s 66us/step - loss: 6.3070 - val_loss: 5.7091\n",
      "Epoch 73/75\n",
      "8571/8571 [==============================] - 1s 66us/step - loss: 6.1149 - val_loss: 5.7097\n",
      "Epoch 74/75\n",
      "8571/8571 [==============================] - 1s 67us/step - loss: 5.9239 - val_loss: 5.2484\n",
      "Epoch 75/75\n",
      "8571/8571 [==============================] - 1s 68us/step - loss: 6.0933 - val_loss: 6.1900\n"
     ]
    }
   ],
   "source": [
    "EPOCHS = 75\n",
    "BS = 256\n",
    "\n",
    "model.compile(loss = \"mse\", optimizer = \"adam\")\n",
    "H = model.fit(x_train, y_train, validation_data = (x_test, y_test),\n",
    "             epochs = EPOCHS, batch_size = BS, verbose = 1)"
   ]
  },
  {
   "cell_type": "code",
   "execution_count": 11,
   "metadata": {},
   "outputs": [
    {
     "data": {
      "text/plain": [
       "<matplotlib.legend.Legend at 0x7fad1c0873c8>"
      ]
     },
     "execution_count": 11,
     "metadata": {},
     "output_type": "execute_result"
    },
    {
     "data": {
      "image/png": "[encoded data removed]",
      "text/plain": [
       "<Figure size 432x288 with 1 Axes>"
      ]
     },
     "metadata": {
      "needs_background": "light"
     },
     "output_type": "display_data"
    }
   ],
   "source": [
    "plt.figure()\n",
    "plt.style.use(\"ggplot\")\n",
    "plt.plot(np.arange(1, EPOCHS + 1), H.history[\"loss\"], label = \"loss\")\n",
    "plt.plot(np.arange(1, EPOCHS + 1), H.history[\"val_loss\"], label = \"val_loss\")\n",
    "plt.xlabel(\"Epochs\")\n",
    "plt.ylabel(\"Loss\")\n",
    "plt.title(\"Loss plot\")\n",
    "plt.legend()"
   ]
  },
  {
   "cell_type": "code",
   "execution_count": 12,
   "metadata": {},
   "outputs": [],
   "source": [
    "index = 456\n",
    "sample = x_test[index][None, ...]\n",
    "pred = model.predict(sample)"
   ]
  },
  {
   "cell_type": "code",
   "execution_count": 13,
   "metadata": {},
   "outputs": [
    {
     "name": "stdout",
     "output_type": "stream",
     "text": [
      "[210. 266. 335. 418. 515. 631.]\n",
      "771 [[773.5468]]\n"
     ]
    }
   ],
   "source": [
    "print(ss.inverse_transform(np.squeeze(sample)))\n",
    "print(y_test[index], pred)"
   ]
  },
  {
   "cell_type": "code",
   "execution_count": 15,
   "metadata": {},
   "outputs": [],
   "source": [
    "model.save(\"../models/lstm.h5\")"
   ]
  }
 ],
 "metadata": {
  "kernelspec": {
   "display_name": "Python 3",
   "language": "python",
   "name": "python3"
  },
  "language_info": {
   "codemirror_mode": {
    "name": "ipython",
    "version": 3
   },
   "file_extension": ".py",
   "mimetype": "text/x-python",
   "name": "python",
   "nbconvert_exporter": "python",
   "pygments_lexer": "ipython3",
   "version": "3.6.9"
  }
 },
 "nbformat": 4,
 "nbformat_minor": 2
}
