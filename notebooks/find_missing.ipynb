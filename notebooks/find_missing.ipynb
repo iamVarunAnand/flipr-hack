{
 "cells": [
  {
   "cell_type": "code",
   "execution_count": 1,
   "metadata": {},
   "outputs": [],
   "source": [
    "import pandas as pd"
   ]
  },
  {
   "cell_type": "code",
   "execution_count": 2,
   "metadata": {},
   "outputs": [],
   "source": [
    "df = pd.read_csv(\"../input/train.csv\")"
   ]
  },
  {
   "cell_type": "code",
   "execution_count": 9,
   "metadata": {},
   "outputs": [],
   "source": [
    "orig_values = df.Diuresis.values"
   ]
  },
  {
   "cell_type": "code",
   "execution_count": 7,
   "metadata": {},
   "outputs": [
    {
     "data": {
      "text/html": [
       "<div>\n",
       "<style scoped>\n",
       "    .dataframe tbody tr th:only-of-type {\n",
       "        vertical-align: middle;\n",
       "    }\n",
       "\n",
       "    .dataframe tbody tr th {\n",
       "        vertical-align: top;\n",
       "    }\n",
       "\n",
       "    .dataframe thead th {\n",
       "        text-align: right;\n",
       "    }\n",
       "</style>\n",
       "<table border=\"1\" class=\"dataframe\">\n",
       "  <thead>\n",
       "    <tr style=\"text-align: right;\">\n",
       "      <th></th>\n",
       "      <th>people_ID</th>\n",
       "      <th>20-Mar-20</th>\n",
       "      <th>21-Mar-20</th>\n",
       "      <th>22-Mar-20</th>\n",
       "      <th>23-Mar-20</th>\n",
       "      <th>24-Mar-20</th>\n",
       "      <th>25-Mar-20</th>\n",
       "      <th>26-Mar-20</th>\n",
       "    </tr>\n",
       "  </thead>\n",
       "  <tbody>\n",
       "    <tr>\n",
       "      <th>0</th>\n",
       "      <td>1</td>\n",
       "      <td>441</td>\n",
       "      <td>544</td>\n",
       "      <td>670</td>\n",
       "      <td>821</td>\n",
       "      <td>1,002</td>\n",
       "      <td>1,216</td>\n",
       "      <td>1,473</td>\n",
       "    </tr>\n",
       "    <tr>\n",
       "      <th>1</th>\n",
       "      <td>2</td>\n",
       "      <td>151</td>\n",
       "      <td>197</td>\n",
       "      <td>253</td>\n",
       "      <td>322</td>\n",
       "      <td>400</td>\n",
       "      <td>493</td>\n",
       "      <td>607</td>\n",
       "    </tr>\n",
       "    <tr>\n",
       "      <th>2</th>\n",
       "      <td>3</td>\n",
       "      <td>416</td>\n",
       "      <td>515</td>\n",
       "      <td>632</td>\n",
       "      <td>777</td>\n",
       "      <td>948</td>\n",
       "      <td>1,150</td>\n",
       "      <td>1,396</td>\n",
       "    </tr>\n",
       "    <tr>\n",
       "      <th>3</th>\n",
       "      <td>4</td>\n",
       "      <td>410</td>\n",
       "      <td>506</td>\n",
       "      <td>621</td>\n",
       "      <td>762</td>\n",
       "      <td>928</td>\n",
       "      <td>1,127</td>\n",
       "      <td>1,368</td>\n",
       "    </tr>\n",
       "    <tr>\n",
       "      <th>4</th>\n",
       "      <td>5</td>\n",
       "      <td>390</td>\n",
       "      <td>483</td>\n",
       "      <td>595</td>\n",
       "      <td>730</td>\n",
       "      <td>893</td>\n",
       "      <td>1,084</td>\n",
       "      <td>1,316</td>\n",
       "    </tr>\n",
       "  </tbody>\n",
       "</table>\n",
       "</div>"
      ],
      "text/plain": [
       "   people_ID  20-Mar-20  21-Mar-20  22-Mar-20  23-Mar-20 24-Mar-20 25-Mar-20  \\\n",
       "0          1        441        544        670        821    1,002     1,216    \n",
       "1          2        151        197        253        322      400       493    \n",
       "2          3        416        515        632        777      948     1,150    \n",
       "3          4        410        506        621        762      928     1,127    \n",
       "4          5        390        483        595        730      893     1,084    \n",
       "\n",
       "  26-Mar-20  \n",
       "0    1,473   \n",
       "1      607   \n",
       "2    1,396   \n",
       "3    1,368   \n",
       "4    1,316   "
      ]
     },
     "execution_count": 7,
     "metadata": {},
     "output_type": "execute_result"
    }
   ],
   "source": [
    "diuresis_df = pd.read_csv(\"../input/diuresis_train.csv\")\n",
    "diuresis_df.head()"
   ]
  },
  {
   "cell_type": "code",
   "execution_count": 10,
   "metadata": {},
   "outputs": [
    {
     "data": {
      "text/plain": [
       "array([441, 151, 416, ..., 177, 352, 181])"
      ]
     },
     "execution_count": 10,
     "metadata": {},
     "output_type": "execute_result"
    }
   ],
   "source": [
    "new_values = diuresis_df[\"20-Mar-20\"].values\n",
    "new_values"
   ]
  },
  {
   "cell_type": "code",
   "execution_count": 12,
   "metadata": {},
   "outputs": [
    {
     "data": {
      "text/plain": [
       "(10714, 10714)"
      ]
     },
     "execution_count": 12,
     "metadata": {},
     "output_type": "execute_result"
    }
   ],
   "source": [
    "len(orig_values), len(new_values)"
   ]
  },
  {
   "cell_type": "code",
   "execution_count": 13,
   "metadata": {},
   "outputs": [],
   "source": [
    "df.loc[:, \"Diuresis\"] = new_values"
   ]
  },
  {
   "cell_type": "code",
   "execution_count": 17,
   "metadata": {},
   "outputs": [],
   "source": [
    "df.to_csv(\"../input/train.csv\", index = False)"
   ]
  }
 ],
 "metadata": {
  "kernelspec": {
   "display_name": "Python 3",
   "language": "python",
   "name": "python3"
  },
  "language_info": {
   "codemirror_mode": {
    "name": "ipython",
    "version": 3
   },
   "file_extension": ".py",
   "mimetype": "text/x-python",
   "name": "python",
   "nbconvert_exporter": "python",
   "pygments_lexer": "ipython3",
   "version": "3.6.9"
  }
 },
 "nbformat": 4,
 "nbformat_minor": 2
}
